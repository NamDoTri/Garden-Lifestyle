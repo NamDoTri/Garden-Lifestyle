{
 "cells": [
  {
   "cell_type": "code",
   "execution_count": 17,
   "metadata": {},
   "outputs": [],
   "source": [
    "import pandas as pd\n",
    "import numpy as np\n",
    "import matplotlib.pyplot as plt\n",
    "\n",
    "from sklearn.model_selection import train_test_split"
   ]
  },
  {
   "cell_type": "code",
   "execution_count": 7,
   "metadata": {},
   "outputs": [],
   "source": [
    "gardenX = gf_id.iloc[:1000][['avg_temp', 'min_temp', 'max_temp', 'avg_wind_speed',\n",
    "       'sunshine_duration', 'precipitation_duration']]\n",
    "gardenY = gf_id.iloc[:1000][['price']]\n",
    "\n",
    "X_train_garden, X_test_garden, y_train_garden, y_test_garden = train_test_split(gardenX, gardenY, test_size=0.2)"
   ]
  },
  {
   "cell_type": "code",
   "execution_count": 4,
   "metadata": {},
   "outputs": [],
   "source": [
    "from sklearn.svm import SVR\n",
    "\n",
    "rbf_clf = SVR(kernel='rbf')\n",
    "lin_clf = SVR(kernel='linear')\n",
    "poly_clf = SVR(kernel='poly')"
   ]
  },
  {
   "cell_type": "raw",
   "metadata": {},
   "source": [
    "rbf_clf.fit(X_train_garden, y_train_garden)\n",
    "lin_clf.fit(X_train_garden, y_train_garden)\n",
    "poly_clf.fit(X_train_garden, y_train_garden)"
   ]
  },
  {
   "cell_type": "code",
   "execution_count": 5,
   "metadata": {},
   "outputs": [],
   "source": [
    "def train_and_evaluate(clf, X_train, X_test, y_train, y_test):\n",
    "    \n",
    "    clf.fit(X_train, y_train)\n",
    "    \n",
    "    print (\"Accuracy on training set:\")\n",
    "    print (clf.score(X_train, y_train))\n",
    "    print (\"Accuracy on testing set:\")\n",
    "    print (clf.score(X_test, y_test))\n",
    "    \n",
    "    y_pred = clf.predict(X_test)\n",
    "    \n",
    "    print (\"Classification Report:\")\n",
    "    print (metrics.classification_report(y_test, y_pred))\n",
    "    print (\"Confusion Matrix:\")\n",
    "    print (metrics.confusion_matrix(y_test, y_pred))"
   ]
  },
  {
   "cell_type": "code",
   "execution_count": null,
   "metadata": {},
   "outputs": [
    {
     "name": "stderr",
     "output_type": "stream",
     "text": [
      "C:\\ProgramData\\Anaconda3\\lib\\site-packages\\sklearn\\utils\\validation.py:724: DataConversionWarning: A column-vector y was passed when a 1d array was expected. Please change the shape of y to (n_samples, ), for example using ravel().\n",
      "  y = column_or_1d(y, warn=True)\n",
      "C:\\ProgramData\\Anaconda3\\lib\\site-packages\\sklearn\\svm\\base.py:193: FutureWarning: The default value of gamma will change from 'auto' to 'scale' in version 0.22 to account better for unscaled features. Set gamma explicitly to 'auto' or 'scale' to avoid this warning.\n",
      "  \"avoid this warning.\", FutureWarning)\n"
     ]
    }
   ],
   "source": [
    "train_and_evaluate(rbf_clf, X_train_garden, X_test_garden, y_train_garden, y_test_garden)\n",
    "train_and_evaluate(lin_clf, X_train_garden, X_test_garden, y_train_garden, y_test_garden)\n",
    "train_and_evaluate(poly_clf, X_train_garden, X_test_garden, y_train_garden, y_test_garden)"
   ]
  },
  {
   "cell_type": "code",
   "execution_count": 1,
   "metadata": {},
   "outputs": [],
   "source": [
    "import pickle\n",
    "\n",
    "file_path = './py/rbf_net_sales_wind.sav'\n",
    "rbf_svr = pickle.load( open(file_path, 'rb') )"
   ]
  },
  {
   "cell_type": "code",
   "execution_count": 4,
   "metadata": {
    "collapsed": true
   },
   "outputs": [
    {
     "data": {
      "text/html": [
       "<div>\n",
       "<style scoped>\n",
       "    .dataframe tbody tr th:only-of-type {\n",
       "        vertical-align: middle;\n",
       "    }\n",
       "\n",
       "    .dataframe tbody tr th {\n",
       "        vertical-align: top;\n",
       "    }\n",
       "\n",
       "    .dataframe thead th {\n",
       "        text-align: right;\n",
       "    }\n",
       "</style>\n",
       "<table border=\"1\" class=\"dataframe\">\n",
       "  <thead>\n",
       "    <tr style=\"text-align: right;\">\n",
       "      <th></th>\n",
       "      <th>order_id</th>\n",
       "      <th>order_date</th>\n",
       "      <th>place</th>\n",
       "      <th>price</th>\n",
       "      <th>first_stn</th>\n",
       "      <th>second_stn</th>\n",
       "      <th>third_stn</th>\n",
       "      <th>avg_temp</th>\n",
       "      <th>min_temp</th>\n",
       "      <th>max_temp</th>\n",
       "      <th>avg_wind_speed</th>\n",
       "      <th>sunshine_duration</th>\n",
       "      <th>precipitation_duration</th>\n",
       "      <th>mean_air_pressure</th>\n",
       "      <th>avg_cloud_cover</th>\n",
       "      <th>avg_humidity</th>\n",
       "    </tr>\n",
       "  </thead>\n",
       "  <tbody>\n",
       "    <tr>\n",
       "      <td>0</td>\n",
       "      <td>1004533192282720180427</td>\n",
       "      <td>20180427</td>\n",
       "      <td>Aa en Hunze</td>\n",
       "      <td>2109.23</td>\n",
       "      <td>280</td>\n",
       "      <td>286</td>\n",
       "      <td>391</td>\n",
       "      <td>96</td>\n",
       "      <td>49</td>\n",
       "      <td>146</td>\n",
       "      <td>33</td>\n",
       "      <td>61</td>\n",
       "      <td>10111</td>\n",
       "      <td>7</td>\n",
       "      <td>94</td>\n",
       "      <td>48</td>\n",
       "    </tr>\n",
       "    <tr>\n",
       "      <td>1</td>\n",
       "      <td>1004533201907820180825</td>\n",
       "      <td>20180825</td>\n",
       "      <td>Aa en Hunze</td>\n",
       "      <td>542.79</td>\n",
       "      <td>280</td>\n",
       "      <td>286</td>\n",
       "      <td>391</td>\n",
       "      <td>122</td>\n",
       "      <td>72</td>\n",
       "      <td>177</td>\n",
       "      <td>35</td>\n",
       "      <td>49</td>\n",
       "      <td>10094</td>\n",
       "      <td>6</td>\n",
       "      <td>95</td>\n",
       "      <td>62</td>\n",
       "    </tr>\n",
       "    <tr>\n",
       "      <td>2</td>\n",
       "      <td>1004533203886120180924</td>\n",
       "      <td>20180924</td>\n",
       "      <td>Aa en Hunze</td>\n",
       "      <td>485.93</td>\n",
       "      <td>280</td>\n",
       "      <td>286</td>\n",
       "      <td>391</td>\n",
       "      <td>97</td>\n",
       "      <td>53</td>\n",
       "      <td>142</td>\n",
       "      <td>45</td>\n",
       "      <td>86</td>\n",
       "      <td>10313</td>\n",
       "      <td>4</td>\n",
       "      <td>96</td>\n",
       "      <td>62</td>\n",
       "    </tr>\n",
       "    <tr>\n",
       "      <td>3</td>\n",
       "      <td>1004534183230520180127</td>\n",
       "      <td>20180127</td>\n",
       "      <td>Zuidplas</td>\n",
       "      <td>99.97</td>\n",
       "      <td>344</td>\n",
       "      <td>348</td>\n",
       "      <td>391</td>\n",
       "      <td>51</td>\n",
       "      <td>3</td>\n",
       "      <td>77</td>\n",
       "      <td>60</td>\n",
       "      <td>18</td>\n",
       "      <td>10273</td>\n",
       "      <td>7</td>\n",
       "      <td>98</td>\n",
       "      <td>75</td>\n",
       "    </tr>\n",
       "    <tr>\n",
       "      <td>4</td>\n",
       "      <td>1004534195169820180528</td>\n",
       "      <td>20180528</td>\n",
       "      <td>Zuidplas</td>\n",
       "      <td>800.93</td>\n",
       "      <td>344</td>\n",
       "      <td>348</td>\n",
       "      <td>391</td>\n",
       "      <td>234</td>\n",
       "      <td>152</td>\n",
       "      <td>294</td>\n",
       "      <td>31</td>\n",
       "      <td>122</td>\n",
       "      <td>10173</td>\n",
       "      <td>6</td>\n",
       "      <td>93</td>\n",
       "      <td>41</td>\n",
       "    </tr>\n",
       "    <tr>\n",
       "      <td>...</td>\n",
       "      <td>...</td>\n",
       "      <td>...</td>\n",
       "      <td>...</td>\n",
       "      <td>...</td>\n",
       "      <td>...</td>\n",
       "      <td>...</td>\n",
       "      <td>...</td>\n",
       "      <td>...</td>\n",
       "      <td>...</td>\n",
       "      <td>...</td>\n",
       "      <td>...</td>\n",
       "      <td>...</td>\n",
       "      <td>...</td>\n",
       "      <td>...</td>\n",
       "      <td>...</td>\n",
       "      <td>...</td>\n",
       "    </tr>\n",
       "    <tr>\n",
       "      <td>176122</td>\n",
       "      <td>1080366202965120180913</td>\n",
       "      <td>20180913</td>\n",
       "      <td>Heerhugowaard</td>\n",
       "      <td>1891.93</td>\n",
       "      <td>249</td>\n",
       "      <td>257</td>\n",
       "      <td>391</td>\n",
       "      <td>142</td>\n",
       "      <td>76</td>\n",
       "      <td>208</td>\n",
       "      <td>19</td>\n",
       "      <td>55</td>\n",
       "      <td>-100</td>\n",
       "      <td>-100</td>\n",
       "      <td>-100</td>\n",
       "      <td>-100</td>\n",
       "    </tr>\n",
       "    <tr>\n",
       "      <td>176123</td>\n",
       "      <td>1080367193278420180805</td>\n",
       "      <td>20180805</td>\n",
       "      <td>Ten Boer</td>\n",
       "      <td>142.41</td>\n",
       "      <td>280</td>\n",
       "      <td>285</td>\n",
       "      <td>391</td>\n",
       "      <td>187</td>\n",
       "      <td>121</td>\n",
       "      <td>253</td>\n",
       "      <td>25</td>\n",
       "      <td>131</td>\n",
       "      <td>10227</td>\n",
       "      <td>3</td>\n",
       "      <td>97</td>\n",
       "      <td>43</td>\n",
       "    </tr>\n",
       "    <tr>\n",
       "      <td>176124</td>\n",
       "      <td>1080367195230820180528</td>\n",
       "      <td>20180528</td>\n",
       "      <td>Ten Boer</td>\n",
       "      <td>1773.55</td>\n",
       "      <td>280</td>\n",
       "      <td>285</td>\n",
       "      <td>391</td>\n",
       "      <td>217</td>\n",
       "      <td>151</td>\n",
       "      <td>283</td>\n",
       "      <td>31</td>\n",
       "      <td>135</td>\n",
       "      <td>10185</td>\n",
       "      <td>4</td>\n",
       "      <td>95</td>\n",
       "      <td>43</td>\n",
       "    </tr>\n",
       "    <tr>\n",
       "      <td>176125</td>\n",
       "      <td>1080367195872420180506</td>\n",
       "      <td>20180506</td>\n",
       "      <td>Ten Boer</td>\n",
       "      <td>1229.86</td>\n",
       "      <td>280</td>\n",
       "      <td>285</td>\n",
       "      <td>391</td>\n",
       "      <td>169</td>\n",
       "      <td>69</td>\n",
       "      <td>243</td>\n",
       "      <td>31</td>\n",
       "      <td>142</td>\n",
       "      <td>10242</td>\n",
       "      <td>0</td>\n",
       "      <td>82</td>\n",
       "      <td>33</td>\n",
       "    </tr>\n",
       "    <tr>\n",
       "      <td>176126</td>\n",
       "      <td>1080367202053920180828</td>\n",
       "      <td>20180828</td>\n",
       "      <td>Ten Boer</td>\n",
       "      <td>459.83</td>\n",
       "      <td>280</td>\n",
       "      <td>285</td>\n",
       "      <td>391</td>\n",
       "      <td>164</td>\n",
       "      <td>119</td>\n",
       "      <td>204</td>\n",
       "      <td>23</td>\n",
       "      <td>14</td>\n",
       "      <td>10182</td>\n",
       "      <td>6</td>\n",
       "      <td>96</td>\n",
       "      <td>61</td>\n",
       "    </tr>\n",
       "  </tbody>\n",
       "</table>\n",
       "<p>176127 rows × 16 columns</p>\n",
       "</div>"
      ],
      "text/plain": [
       "                      order_id  order_date          place    price  first_stn  \\\n",
       "0       1004533192282720180427    20180427    Aa en Hunze  2109.23        280   \n",
       "1       1004533201907820180825    20180825    Aa en Hunze   542.79        280   \n",
       "2       1004533203886120180924    20180924    Aa en Hunze   485.93        280   \n",
       "3       1004534183230520180127    20180127       Zuidplas    99.97        344   \n",
       "4       1004534195169820180528    20180528       Zuidplas   800.93        344   \n",
       "...                        ...         ...            ...      ...        ...   \n",
       "176122  1080366202965120180913    20180913  Heerhugowaard  1891.93        249   \n",
       "176123  1080367193278420180805    20180805       Ten Boer   142.41        280   \n",
       "176124  1080367195230820180528    20180528       Ten Boer  1773.55        280   \n",
       "176125  1080367195872420180506    20180506       Ten Boer  1229.86        280   \n",
       "176126  1080367202053920180828    20180828       Ten Boer   459.83        280   \n",
       "\n",
       "        second_stn  third_stn  avg_temp  min_temp  max_temp  avg_wind_speed  \\\n",
       "0              286        391        96        49       146              33   \n",
       "1              286        391       122        72       177              35   \n",
       "2              286        391        97        53       142              45   \n",
       "3              348        391        51         3        77              60   \n",
       "4              348        391       234       152       294              31   \n",
       "...            ...        ...       ...       ...       ...             ...   \n",
       "176122         257        391       142        76       208              19   \n",
       "176123         285        391       187       121       253              25   \n",
       "176124         285        391       217       151       283              31   \n",
       "176125         285        391       169        69       243              31   \n",
       "176126         285        391       164       119       204              23   \n",
       "\n",
       "        sunshine_duration  precipitation_duration  mean_air_pressure  \\\n",
       "0                      61                   10111                  7   \n",
       "1                      49                   10094                  6   \n",
       "2                      86                   10313                  4   \n",
       "3                      18                   10273                  7   \n",
       "4                     122                   10173                  6   \n",
       "...                   ...                     ...                ...   \n",
       "176122                 55                    -100               -100   \n",
       "176123                131                   10227                  3   \n",
       "176124                135                   10185                  4   \n",
       "176125                142                   10242                  0   \n",
       "176126                 14                   10182                  6   \n",
       "\n",
       "        avg_cloud_cover  avg_humidity  \n",
       "0                    94            48  \n",
       "1                    95            62  \n",
       "2                    96            62  \n",
       "3                    98            75  \n",
       "4                    93            41  \n",
       "...                 ...           ...  \n",
       "176122             -100          -100  \n",
       "176123               97            43  \n",
       "176124               95            43  \n",
       "176125               82            33  \n",
       "176126               96            61  \n",
       "\n",
       "[176127 rows x 16 columns]"
      ]
     },
     "execution_count": 4,
     "metadata": {},
     "output_type": "execute_result"
    }
   ],
   "source": [
    "gf_id = pd.read_csv('data/group_by_id_2018.csv')\n",
    "gf_id"
   ]
  },
  {
   "cell_type": "code",
   "execution_count": 5,
   "metadata": {},
   "outputs": [],
   "source": [
    "data_set_size = len(gf_id);\n",
    "\n",
    "group_by_wind = gf_id.groupby('avg_wind_speed')\n",
    "price_by_wind = [{'avg_wind_speed': x, 'price': np.sum(group_by_wind.get_group(x).price)} for x in group_by_wind.groups]\n",
    "price_by_wind = pd.DataFrame(price_by_wind)\n",
    "\n",
    "gardenX = price_by_wind.iloc[:data_set_size][['avg_wind_speed']]\n",
    "gardenY = price_by_wind.iloc[:data_set_size][['price']]"
   ]
  },
  {
   "cell_type": "code",
   "execution_count": 7,
   "metadata": {},
   "outputs": [],
   "source": [
    "from sklearn.preprocessing import StandardScaler\n",
    "scaler = StandardScaler().fit(gardenY)\n",
    "gardenY = scaler.transform(gardenY)"
   ]
  },
  {
   "cell_type": "code",
   "execution_count": 9,
   "metadata": {},
   "outputs": [],
   "source": [
    "from sklearn.metrics import mean_squared_error\n",
    "from sklearn.metrics import r2_score\n",
    "import time"
   ]
  },
  {
   "cell_type": "code",
   "execution_count": 11,
   "metadata": {},
   "outputs": [],
   "source": [
    "y_pred_garden = rbf_svr.predict(gardenX)"
   ]
  },
  {
   "cell_type": "code",
   "execution_count": 12,
   "metadata": {},
   "outputs": [
    {
     "name": "stdout",
     "output_type": "stream",
     "text": [
      "MSE 2018: 0.263\n"
     ]
    }
   ],
   "source": [
    "print('MSE 2018: %.3f' % (mean_squared_error(gardenY, y_pred_garden)) )"
   ]
  },
  {
   "cell_type": "code",
   "execution_count": 14,
   "metadata": {},
   "outputs": [
    {
     "name": "stdout",
     "output_type": "stream",
     "text": [
      "R^2 2018: 0.737\n"
     ]
    }
   ],
   "source": [
    "print('R^2 2018: %.3f' % (r2_score(gardenY, y_pred_garden)) )"
   ]
  },
  {
   "cell_type": "code",
   "execution_count": 21,
   "metadata": {},
   "outputs": [
    {
     "name": "stdout",
     "output_type": "stream",
     "text": [
      "MSE 2018: 0.263\n",
      "R^2 2018: 0.737\n"
     ]
    },
    {
     "data": {
      "image/png": "[encoded data removed]",
      "text/plain": [
       "<Figure size 1440x720 with 1 Axes>"
      ]
     },
     "metadata": {
      "needs_background": "light"
     },
     "output_type": "display_data"
    }
   ],
   "source": [
    "print('MSE 2018: %.3f' % (mean_squared_error(gardenY, y_pred_garden)) )\n",
    "print('R^2 2018: %.3f' % (r2_score(gardenY, y_pred_garden)) )\n",
    "\n",
    "plt.figure(figsize=(20,10))\n",
    "#plt.plot(X_train_garden, y_train_pred, color=\"red\", label=\"Model\")\n",
    "plt.scatter(gardenX, gardenY, c=\"blue\", marker='o', label=\"real\")\n",
    "plt.scatter(gardenX, y_pred_garden, c=\"orange\", marker='s', label=\"pred\")\n",
    "plt.xlabel('Average wind speed')\n",
    "plt.ylabel('Net sale in tens of millions')\n",
    "plt.legend()\n",
    "plt.show()"
   ]
  }
 ],
 "metadata": {
  "kernelspec": {
   "display_name": "Python 3",
   "language": "python",
   "name": "python3"
  },
  "language_info": {
   "codemirror_mode": {
    "name": "ipython",
    "version": 3
   },
   "file_extension": ".py",
   "mimetype": "text/x-python",
   "name": "python",
   "nbconvert_exporter": "python",
   "pygments_lexer": "ipython3",
   "version": "3.7.4"
  }
 },
 "nbformat": 4,
 "nbformat_minor": 2
}
